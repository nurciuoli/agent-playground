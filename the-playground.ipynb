{
 "cells": [
  {
   "cell_type": "markdown",
   "metadata": {},
   "source": [
    "## Agent-Playground"
   ]
  },
  {
   "cell_type": "code",
   "execution_count": 1,
   "metadata": {},
   "outputs": [
    {
     "name": "stdout",
     "output_type": "stream",
     "text": [
      "...\n",
      "get_second_opinion\n",
      "...\n",
      "QUESTION:What's a good topic for a random joke?\n",
      "SECOND OP:Here are some potential topics that could work well for a random joke:\n",
      "\n",
      "- Food (pizza, tacos, vegetables kids hate, etc.)\n",
      "- Animals (cats, dogs, farm animals)\n",
      "- Occupations (doctors, lawyers, teachers)\n",
      "- Technology (computers, smartphones, social media)\n",
      "- Relationships (dating, marriage, in-laws)\n",
      "- Sports (golf, baseball, football)\n",
      "- Body parts (feet, noses, ears)\n",
      "- Celebrities or fictional characters\n",
      "- Puns or plays on words\n",
      "- Observational humor about everyday life\n",
      "\n",
      "The key is to pick a topic that most people can relate to and find some humorous observation, exaggeration or twist on that subject matter. Random jokes often work best when they take a common situation and put an unexpected, silly spin on it.\n",
      "...\n",
      "execute_plan\n",
      "...\n",
      "Write a joke about the topic of food, specifically pizza.\n",
      "random_pizza_joke.txt\n",
      "TASK:Write a joke about the topic of food, specifically pizza.\n",
      "RESPONSE:print('Why was the pizza in a bad mood? Because it was feeling crusty!')\n",
      "Write a joke about the topic of animals, specifically cats.\n",
      "random_cat_joke.txt\n",
      "TASK:Write a joke about the topic of animals, specifically cats.\n",
      "RESPONSE:Why did the cat join a band? Because it wanted to be the purr-cussionist!\n",
      "Write a joke about the topic of technology, specifically smartphones.\n",
      "random_smartphone_joke.txt\n",
      "TASK:Write a joke about the topic of technology, specifically smartphones.\n",
      "RESPONSE:print('Why did the smartphone go to therapy? It had a lot of hang-ups!')\n",
      "I have written random jokes on the topics of food (pizza), animals (cats), and technology (smartphones).\n"
     ]
    }
   ],
   "source": [
    "from agents.myGpt import Agent as OAgent\n",
    "from agents.agent_tools import execute_plan_json,get_review_json,get_second_opinion_json\n",
    "\n",
    "agi = OAgent(role_context=\"\"\"BACKGROUND: You are a project manager, your job is to execute the user request most efficiently\n",
    "             INSTRUCTIONS: \n",
    "             1. If needed, use get_second_opinion for advice or more up to date context\n",
    "             2. use first_draft to start building out any content\n",
    "             3. Use get_review to have your work peer reviewed to ensure for correctness\n",
    "             YOU ONLY HAVE ONE SHOT\"\"\",\n",
    "             tools=[{\"type\": \"function\", \"function\":execute_plan_json},\n",
    "                    {\"type\": \"function\", \"function\":get_review_json},\n",
    "                    {\"type\": \"function\", \"function\":get_second_opinion_json}])\n",
    "\n",
    "agi.chat(\"write me a random joke about the topic of your choosing\")\n"
   ]
  },
  {
   "cell_type": "markdown",
   "metadata": {},
   "source": [
    "-----------"
   ]
  }
 ],
 "metadata": {
  "kernelspec": {
   "display_name": "agi",
   "language": "python",
   "name": "python3"
  },
  "language_info": {
   "codemirror_mode": {
    "name": "ipython",
    "version": 3
   },
   "file_extension": ".py",
   "mimetype": "text/x-python",
   "name": "python",
   "nbconvert_exporter": "python",
   "pygments_lexer": "ipython3",
   "version": "3.11.8"
  }
 },
 "nbformat": 4,
 "nbformat_minor": 2
}
