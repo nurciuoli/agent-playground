{
 "cells": [
  {
   "cell_type": "code",
   "execution_count": 1,
   "metadata": {},
   "outputs": [
    {
     "name": "stdout",
     "output_type": "stream",
     "text": [
      "Hello! How can I help you today?\n"
     ]
    }
   ],
   "source": [
    "from myGpt import Agent as OAgent\n",
    "\n",
    "agi = OAgent()\n",
    "\n",
    "agi.chat(\"hi\")"
   ]
  },
  {
   "cell_type": "code",
   "execution_count": 2,
   "metadata": {},
   "outputs": [
    {
     "name": "stdout",
     "output_type": "stream",
     "text": [
      "Hello! How can I assist you today?\n"
     ]
    }
   ],
   "source": [
    "from myClaude import Agent as CAgent\n",
    "\n",
    "agi = CAgent()\n",
    "agi.chat('hi')"
   ]
  },
  {
   "cell_type": "code",
   "execution_count": 3,
   "metadata": {},
   "outputs": [
    {
     "name": "stdout",
     "output_type": "stream",
     "text": [
      "Hello! How can I help you?\n"
     ]
    }
   ],
   "source": [
    "from myGemini import Agent as GAgent\n",
    "\n",
    "agi = GAgent()\n",
    "\n",
    "agi.chat('hi')"
   ]
  },
  {
   "cell_type": "code",
   "execution_count": 4,
   "metadata": {},
   "outputs": [
    {
     "name": "stdout",
     "output_type": "stream",
     "text": [
      "Hi there! It's nice to meet you. Is there something I can help you with, or would you like to chat about something in particular?\n"
     ]
    }
   ],
   "source": [
    "from myLlama import Agent as LAgent\n",
    "\n",
    "agi = LAgent()\n",
    "\n",
    "agi.chat('hi')"
   ]
  }
 ],
 "metadata": {
  "kernelspec": {
   "display_name": "agi",
   "language": "python",
   "name": "python3"
  },
  "language_info": {
   "codemirror_mode": {
    "name": "ipython",
    "version": 3
   },
   "file_extension": ".py",
   "mimetype": "text/x-python",
   "name": "python",
   "nbconvert_exporter": "python",
   "pygments_lexer": "ipython3",
   "version": "3.11.8"
  }
 },
 "nbformat": 4,
 "nbformat_minor": 2
}
