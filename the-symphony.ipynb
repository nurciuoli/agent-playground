{
 "cells": [
  {
   "cell_type": "code",
   "execution_count": 2,
   "metadata": {},
   "outputs": [
    {
     "name": "stdout",
     "output_type": "stream",
     "text": [
      "...\n",
      "plan_and_execute\n",
      "...\n",
      "Write a Python function that takes a time series and a title as input and produces a line plot of the time series with the specified title.\n",
      "time_series_plot.py\n",
      "...\n",
      "get_review\n",
      "...\n",
      "The function to plot any time series on a lineplot with a title input has been successfully created. I will now request a peer review of the function to ensure its quality.\n",
      "The function has received positive feedback, along with some suggestions for improvement. I will work on incorporating the suggestions and make necessary adjustments to the function. Thank you for your input!\n"
     ]
    }
   ],
   "source": [
    "from agents.myGpt import Agent as OAgent\n",
    "from tools.oa_tools import plan_and_execute_json,get_review_json\n",
    "\n",
    "agi = OAgent(role_context=\"\"\"You are a project manager, your job is to execute the user request most efficiently\n",
    "                            you MUST get a review before getting back to the user\"\"\",\n",
    "             tools=[{\"type\": \"function\", \"function\":plan_and_execute_json},\n",
    "                    {\"type\": \"function\", \"function\":get_review_json}])\n",
    "\n",
    "agi.chat(\"can you write me a function to plot any time series on a lineplot with a title input? python\")\n"
   ]
  }
 ],
 "metadata": {
  "kernelspec": {
   "display_name": "agi",
   "language": "python",
   "name": "python3"
  },
  "language_info": {
   "codemirror_mode": {
    "name": "ipython",
    "version": 3
   },
   "file_extension": ".py",
   "mimetype": "text/x-python",
   "name": "python",
   "nbconvert_exporter": "python",
   "pygments_lexer": "ipython3",
   "version": "3.11.8"
  }
 },
 "nbformat": 4,
 "nbformat_minor": 2
}
